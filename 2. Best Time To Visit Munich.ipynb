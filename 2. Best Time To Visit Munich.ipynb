{
 "cells": [
  {
   "cell_type": "markdown",
   "id": "cbb82829-6b3f-48ef-a7b2-a9f4384df8ee",
   "metadata": {},
   "source": [
    "### This notebook explores the calendar of Munich listings to answer the question: \n",
    "## What is the best time to visit Munich if you want to save money for accomodation?"
   ]
  },
  {
   "cell_type": "code",
   "execution_count": 23,
   "id": "042bb7b8-9e43-472b-bc9c-486647b5d812",
   "metadata": {},
   "outputs": [],
   "source": [
    "import pandas as pd\n",
    "import numpy as np\n",
    "from matplotlib import pyplot as plt\n",
    "import seaborn as sns\n",
    "sns.set()"
   ]
  },
  {
   "cell_type": "code",
   "execution_count": 24,
   "id": "9ebd4a0b-a3fc-4b4e-9695-2aa1f0cb821a",
   "metadata": {},
   "outputs": [],
   "source": [
    "LOCATION = 'munich'\n",
    "\n",
    "df_list = pd.read_csv(LOCATION + '/listings.csv.gz')\n",
    "df_reviews = pd.read_csv(LOCATION + '/reviews.csv.gz')\n",
    "df_cal = pd.read_csv(LOCATION + '/calendar.csv.gz')\n",
    "\n",
    "df_list_sum = pd.read_csv(LOCATION + '/listings.csv')\n",
    "df_reviews_sum = pd.read_csv(LOCATION + '/reviews.csv')\n",
    "df_neib_sum = pd.read_csv(LOCATION + '/neighbourhoods.csv')"
   ]
  },
  {
   "cell_type": "code",
   "execution_count": 25,
   "id": "092d89c5-ae62-4037-9727-e76ea94fd50b",
   "metadata": {},
   "outputs": [],
   "source": [
    "pd.options.display.max_rows=10\n",
    "pd.options.display.max_columns=None\n",
    "pd.options.display.max_colwidth=30"
   ]
  },
  {
   "cell_type": "markdown",
   "id": "d44b92e6-bd35-448d-8999-43b1ca09bd5b",
   "metadata": {},
   "source": [
    "## Calendar"
   ]
  },
  {
   "cell_type": "markdown",
   "id": "685afca8-e97b-4ba2-a08f-486c930db0d0",
   "metadata": {},
   "source": [
    "#### First look into to data and types for each column:"
   ]
  },
  {
   "cell_type": "code",
   "execution_count": 26,
   "id": "d68b8714-c96b-45ad-9230-01be52a1ee7e",
   "metadata": {},
   "outputs": [
    {
     "data": {
      "text/html": [
       "<div>\n",
       "<style scoped>\n",
       "    .dataframe tbody tr th:only-of-type {\n",
       "        vertical-align: middle;\n",
       "    }\n",
       "\n",
       "    .dataframe tbody tr th {\n",
       "        vertical-align: top;\n",
       "    }\n",
       "\n",
       "    .dataframe thead th {\n",
       "        text-align: right;\n",
       "    }\n",
       "</style>\n",
       "<table border=\"1\" class=\"dataframe\">\n",
       "  <thead>\n",
       "    <tr style=\"text-align: right;\">\n",
       "      <th></th>\n",
       "      <th>listing_id</th>\n",
       "      <th>date</th>\n",
       "      <th>available</th>\n",
       "      <th>price</th>\n",
       "      <th>adjusted_price</th>\n",
       "      <th>minimum_nights</th>\n",
       "      <th>maximum_nights</th>\n",
       "    </tr>\n",
       "  </thead>\n",
       "  <tbody>\n",
       "    <tr>\n",
       "      <th>0</th>\n",
       "      <td>710604</td>\n",
       "      <td>2021-03-23</td>\n",
       "      <td>t</td>\n",
       "      <td>$39.00</td>\n",
       "      <td>$39.00</td>\n",
       "      <td>1.0</td>\n",
       "      <td>1125.0</td>\n",
       "    </tr>\n",
       "    <tr>\n",
       "      <th>1</th>\n",
       "      <td>710604</td>\n",
       "      <td>2021-03-24</td>\n",
       "      <td>t</td>\n",
       "      <td>$39.00</td>\n",
       "      <td>$39.00</td>\n",
       "      <td>1.0</td>\n",
       "      <td>1125.0</td>\n",
       "    </tr>\n",
       "    <tr>\n",
       "      <th>2</th>\n",
       "      <td>710604</td>\n",
       "      <td>2021-03-25</td>\n",
       "      <td>t</td>\n",
       "      <td>$39.00</td>\n",
       "      <td>$39.00</td>\n",
       "      <td>1.0</td>\n",
       "      <td>1125.0</td>\n",
       "    </tr>\n",
       "    <tr>\n",
       "      <th>3</th>\n",
       "      <td>710604</td>\n",
       "      <td>2021-03-26</td>\n",
       "      <td>t</td>\n",
       "      <td>$39.00</td>\n",
       "      <td>$39.00</td>\n",
       "      <td>1.0</td>\n",
       "      <td>1125.0</td>\n",
       "    </tr>\n",
       "    <tr>\n",
       "      <th>4</th>\n",
       "      <td>710604</td>\n",
       "      <td>2021-03-27</td>\n",
       "      <td>t</td>\n",
       "      <td>$39.00</td>\n",
       "      <td>$39.00</td>\n",
       "      <td>1.0</td>\n",
       "      <td>1125.0</td>\n",
       "    </tr>\n",
       "    <tr>\n",
       "      <th>...</th>\n",
       "      <td>...</td>\n",
       "      <td>...</td>\n",
       "      <td>...</td>\n",
       "      <td>...</td>\n",
       "      <td>...</td>\n",
       "      <td>...</td>\n",
       "      <td>...</td>\n",
       "    </tr>\n",
       "    <tr>\n",
       "      <th>1849111</th>\n",
       "      <td>48673500</td>\n",
       "      <td>2022-03-18</td>\n",
       "      <td>f</td>\n",
       "      <td>$40.00</td>\n",
       "      <td>$40.00</td>\n",
       "      <td>25.0</td>\n",
       "      <td>1125.0</td>\n",
       "    </tr>\n",
       "    <tr>\n",
       "      <th>1849112</th>\n",
       "      <td>48673500</td>\n",
       "      <td>2022-03-19</td>\n",
       "      <td>f</td>\n",
       "      <td>$40.00</td>\n",
       "      <td>$40.00</td>\n",
       "      <td>25.0</td>\n",
       "      <td>1125.0</td>\n",
       "    </tr>\n",
       "    <tr>\n",
       "      <th>1849113</th>\n",
       "      <td>48673500</td>\n",
       "      <td>2022-03-20</td>\n",
       "      <td>f</td>\n",
       "      <td>$40.00</td>\n",
       "      <td>$40.00</td>\n",
       "      <td>25.0</td>\n",
       "      <td>1125.0</td>\n",
       "    </tr>\n",
       "    <tr>\n",
       "      <th>1849114</th>\n",
       "      <td>48673500</td>\n",
       "      <td>2022-03-21</td>\n",
       "      <td>f</td>\n",
       "      <td>$40.00</td>\n",
       "      <td>$40.00</td>\n",
       "      <td>25.0</td>\n",
       "      <td>1125.0</td>\n",
       "    </tr>\n",
       "    <tr>\n",
       "      <th>1849115</th>\n",
       "      <td>48673500</td>\n",
       "      <td>2022-03-22</td>\n",
       "      <td>f</td>\n",
       "      <td>$40.00</td>\n",
       "      <td>$40.00</td>\n",
       "      <td>25.0</td>\n",
       "      <td>1125.0</td>\n",
       "    </tr>\n",
       "  </tbody>\n",
       "</table>\n",
       "<p>1849116 rows × 7 columns</p>\n",
       "</div>"
      ],
      "text/plain": [
       "         listing_id        date available   price adjusted_price  \\\n",
       "0            710604  2021-03-23         t  $39.00         $39.00   \n",
       "1            710604  2021-03-24         t  $39.00         $39.00   \n",
       "2            710604  2021-03-25         t  $39.00         $39.00   \n",
       "3            710604  2021-03-26         t  $39.00         $39.00   \n",
       "4            710604  2021-03-27         t  $39.00         $39.00   \n",
       "...             ...         ...       ...     ...            ...   \n",
       "1849111    48673500  2022-03-18         f  $40.00         $40.00   \n",
       "1849112    48673500  2022-03-19         f  $40.00         $40.00   \n",
       "1849113    48673500  2022-03-20         f  $40.00         $40.00   \n",
       "1849114    48673500  2022-03-21         f  $40.00         $40.00   \n",
       "1849115    48673500  2022-03-22         f  $40.00         $40.00   \n",
       "\n",
       "         minimum_nights  maximum_nights  \n",
       "0                   1.0          1125.0  \n",
       "1                   1.0          1125.0  \n",
       "2                   1.0          1125.0  \n",
       "3                   1.0          1125.0  \n",
       "4                   1.0          1125.0  \n",
       "...                 ...             ...  \n",
       "1849111            25.0          1125.0  \n",
       "1849112            25.0          1125.0  \n",
       "1849113            25.0          1125.0  \n",
       "1849114            25.0          1125.0  \n",
       "1849115            25.0          1125.0  \n",
       "\n",
       "[1849116 rows x 7 columns]"
      ]
     },
     "execution_count": 26,
     "metadata": {},
     "output_type": "execute_result"
    }
   ],
   "source": [
    "df_cal"
   ]
  },
  {
   "cell_type": "code",
   "execution_count": 27,
   "id": "fb09c2d5-c2db-4786-89fc-6a22ae3d5d81",
   "metadata": {},
   "outputs": [
    {
     "data": {
      "text/plain": [
       "listing_id          int64\n",
       "date               object\n",
       "available          object\n",
       "price              object\n",
       "adjusted_price     object\n",
       "minimum_nights    float64\n",
       "maximum_nights    float64\n",
       "dtype: object"
      ]
     },
     "execution_count": 27,
     "metadata": {},
     "output_type": "execute_result"
    }
   ],
   "source": [
    "df_cal.dtypes"
   ]
  },
  {
   "cell_type": "markdown",
   "id": "344734bc-e2bc-480d-8479-ccf40ac328bf",
   "metadata": {},
   "source": [
    "#### Some data types are wrong. In order to be able to work with the data, we need to change some datatypes."
   ]
  },
  {
   "cell_type": "markdown",
   "id": "ca70314e-9078-41ee-beb7-89ffa0fe381b",
   "metadata": {},
   "source": [
    "First convert **date** to *datetime* type:"
   ]
  },
  {
   "cell_type": "code",
   "execution_count": 28,
   "id": "ab3e95a9-2dfc-4686-b975-5c0c6f3a2d87",
   "metadata": {},
   "outputs": [],
   "source": [
    "df_cal['date'] = pd.to_datetime(df_cal['date'])"
   ]
  },
  {
   "cell_type": "markdown",
   "id": "60edc4b1-e06f-4423-8153-47a983409175",
   "metadata": {},
   "source": [
    "Prices need to converted to *float* in order to be able to work with it."
   ]
  },
  {
   "cell_type": "code",
   "execution_count": 29,
   "id": "4a6b3ced-5fa0-4174-b0b5-e4b4f0d25164",
   "metadata": {},
   "outputs": [],
   "source": [
    "df_cal['price']=df_cal['price'].replace(to_replace='[\\$,]', value='', regex=True).astype(float)\n",
    "df_cal['adjusted_price']=df_cal['adjusted_price'].replace(to_replace='[\\$,]', value='', regex=True).astype(float)"
   ]
  },
  {
   "cell_type": "markdown",
   "id": "90aa8fc6-fc5e-4a85-ada0-2c38ce24838d",
   "metadata": {},
   "source": [
    "To be able to have a close look at prices, let's introduce the **day_of_week** column."
   ]
  },
  {
   "cell_type": "code",
   "execution_count": 30,
   "id": "379b7d32-3d00-42bc-862f-40dc611d06f0",
   "metadata": {},
   "outputs": [],
   "source": [
    "df_cal['day_of_week'] = df_cal['date'].dt.dayofweek"
   ]
  },
  {
   "cell_type": "markdown",
   "id": "c812c71c-4bb1-4030-89b4-5f071411fb58",
   "metadata": {},
   "source": [
    "This is how it looks now:"
   ]
  },
  {
   "cell_type": "code",
   "execution_count": 31,
   "id": "7c12f281-6ee7-4015-9710-8da388409252",
   "metadata": {},
   "outputs": [
    {
     "data": {
      "text/html": [
       "<div>\n",
       "<style scoped>\n",
       "    .dataframe tbody tr th:only-of-type {\n",
       "        vertical-align: middle;\n",
       "    }\n",
       "\n",
       "    .dataframe tbody tr th {\n",
       "        vertical-align: top;\n",
       "    }\n",
       "\n",
       "    .dataframe thead th {\n",
       "        text-align: right;\n",
       "    }\n",
       "</style>\n",
       "<table border=\"1\" class=\"dataframe\">\n",
       "  <thead>\n",
       "    <tr style=\"text-align: right;\">\n",
       "      <th></th>\n",
       "      <th>listing_id</th>\n",
       "      <th>date</th>\n",
       "      <th>available</th>\n",
       "      <th>price</th>\n",
       "      <th>adjusted_price</th>\n",
       "      <th>minimum_nights</th>\n",
       "      <th>maximum_nights</th>\n",
       "      <th>day_of_week</th>\n",
       "    </tr>\n",
       "  </thead>\n",
       "  <tbody>\n",
       "    <tr>\n",
       "      <th>0</th>\n",
       "      <td>710604</td>\n",
       "      <td>2021-03-23</td>\n",
       "      <td>t</td>\n",
       "      <td>39.0</td>\n",
       "      <td>39.0</td>\n",
       "      <td>1.0</td>\n",
       "      <td>1125.0</td>\n",
       "      <td>1</td>\n",
       "    </tr>\n",
       "    <tr>\n",
       "      <th>1</th>\n",
       "      <td>710604</td>\n",
       "      <td>2021-03-24</td>\n",
       "      <td>t</td>\n",
       "      <td>39.0</td>\n",
       "      <td>39.0</td>\n",
       "      <td>1.0</td>\n",
       "      <td>1125.0</td>\n",
       "      <td>2</td>\n",
       "    </tr>\n",
       "    <tr>\n",
       "      <th>2</th>\n",
       "      <td>710604</td>\n",
       "      <td>2021-03-25</td>\n",
       "      <td>t</td>\n",
       "      <td>39.0</td>\n",
       "      <td>39.0</td>\n",
       "      <td>1.0</td>\n",
       "      <td>1125.0</td>\n",
       "      <td>3</td>\n",
       "    </tr>\n",
       "    <tr>\n",
       "      <th>3</th>\n",
       "      <td>710604</td>\n",
       "      <td>2021-03-26</td>\n",
       "      <td>t</td>\n",
       "      <td>39.0</td>\n",
       "      <td>39.0</td>\n",
       "      <td>1.0</td>\n",
       "      <td>1125.0</td>\n",
       "      <td>4</td>\n",
       "    </tr>\n",
       "    <tr>\n",
       "      <th>4</th>\n",
       "      <td>710604</td>\n",
       "      <td>2021-03-27</td>\n",
       "      <td>t</td>\n",
       "      <td>39.0</td>\n",
       "      <td>39.0</td>\n",
       "      <td>1.0</td>\n",
       "      <td>1125.0</td>\n",
       "      <td>5</td>\n",
       "    </tr>\n",
       "    <tr>\n",
       "      <th>...</th>\n",
       "      <td>...</td>\n",
       "      <td>...</td>\n",
       "      <td>...</td>\n",
       "      <td>...</td>\n",
       "      <td>...</td>\n",
       "      <td>...</td>\n",
       "      <td>...</td>\n",
       "      <td>...</td>\n",
       "    </tr>\n",
       "    <tr>\n",
       "      <th>1849111</th>\n",
       "      <td>48673500</td>\n",
       "      <td>2022-03-18</td>\n",
       "      <td>f</td>\n",
       "      <td>40.0</td>\n",
       "      <td>40.0</td>\n",
       "      <td>25.0</td>\n",
       "      <td>1125.0</td>\n",
       "      <td>4</td>\n",
       "    </tr>\n",
       "    <tr>\n",
       "      <th>1849112</th>\n",
       "      <td>48673500</td>\n",
       "      <td>2022-03-19</td>\n",
       "      <td>f</td>\n",
       "      <td>40.0</td>\n",
       "      <td>40.0</td>\n",
       "      <td>25.0</td>\n",
       "      <td>1125.0</td>\n",
       "      <td>5</td>\n",
       "    </tr>\n",
       "    <tr>\n",
       "      <th>1849113</th>\n",
       "      <td>48673500</td>\n",
       "      <td>2022-03-20</td>\n",
       "      <td>f</td>\n",
       "      <td>40.0</td>\n",
       "      <td>40.0</td>\n",
       "      <td>25.0</td>\n",
       "      <td>1125.0</td>\n",
       "      <td>6</td>\n",
       "    </tr>\n",
       "    <tr>\n",
       "      <th>1849114</th>\n",
       "      <td>48673500</td>\n",
       "      <td>2022-03-21</td>\n",
       "      <td>f</td>\n",
       "      <td>40.0</td>\n",
       "      <td>40.0</td>\n",
       "      <td>25.0</td>\n",
       "      <td>1125.0</td>\n",
       "      <td>0</td>\n",
       "    </tr>\n",
       "    <tr>\n",
       "      <th>1849115</th>\n",
       "      <td>48673500</td>\n",
       "      <td>2022-03-22</td>\n",
       "      <td>f</td>\n",
       "      <td>40.0</td>\n",
       "      <td>40.0</td>\n",
       "      <td>25.0</td>\n",
       "      <td>1125.0</td>\n",
       "      <td>1</td>\n",
       "    </tr>\n",
       "  </tbody>\n",
       "</table>\n",
       "<p>1849116 rows × 8 columns</p>\n",
       "</div>"
      ],
      "text/plain": [
       "         listing_id       date available  price  adjusted_price  \\\n",
       "0            710604 2021-03-23         t   39.0            39.0   \n",
       "1            710604 2021-03-24         t   39.0            39.0   \n",
       "2            710604 2021-03-25         t   39.0            39.0   \n",
       "3            710604 2021-03-26         t   39.0            39.0   \n",
       "4            710604 2021-03-27         t   39.0            39.0   \n",
       "...             ...        ...       ...    ...             ...   \n",
       "1849111    48673500 2022-03-18         f   40.0            40.0   \n",
       "1849112    48673500 2022-03-19         f   40.0            40.0   \n",
       "1849113    48673500 2022-03-20         f   40.0            40.0   \n",
       "1849114    48673500 2022-03-21         f   40.0            40.0   \n",
       "1849115    48673500 2022-03-22         f   40.0            40.0   \n",
       "\n",
       "         minimum_nights  maximum_nights  day_of_week  \n",
       "0                   1.0          1125.0            1  \n",
       "1                   1.0          1125.0            2  \n",
       "2                   1.0          1125.0            3  \n",
       "3                   1.0          1125.0            4  \n",
       "4                   1.0          1125.0            5  \n",
       "...                 ...             ...          ...  \n",
       "1849111            25.0          1125.0            4  \n",
       "1849112            25.0          1125.0            5  \n",
       "1849113            25.0          1125.0            6  \n",
       "1849114            25.0          1125.0            0  \n",
       "1849115            25.0          1125.0            1  \n",
       "\n",
       "[1849116 rows x 8 columns]"
      ]
     },
     "execution_count": 31,
     "metadata": {},
     "output_type": "execute_result"
    }
   ],
   "source": [
    "df_cal"
   ]
  },
  {
   "cell_type": "markdown",
   "id": "da5f874e-c3da-4703-9009-b5b1e47c9b82",
   "metadata": {},
   "source": [
    "And this are the corrected data types:"
   ]
  },
  {
   "cell_type": "code",
   "execution_count": 32,
   "id": "bb6a558d-9dec-4232-ae88-4a9e0b2968fb",
   "metadata": {},
   "outputs": [
    {
     "data": {
      "text/plain": [
       "listing_id                 int64\n",
       "date              datetime64[ns]\n",
       "available                 object\n",
       "price                    float64\n",
       "adjusted_price           float64\n",
       "minimum_nights           float64\n",
       "maximum_nights           float64\n",
       "day_of_week                int64\n",
       "dtype: object"
      ]
     },
     "execution_count": 32,
     "metadata": {},
     "output_type": "execute_result"
    }
   ],
   "source": [
    "df_cal.dtypes"
   ]
  },
  {
   "cell_type": "markdown",
   "id": "9986f4a5-bd78-48fc-a419-42ba3743b5ee",
   "metadata": {},
   "source": [
    "## First question to be answered is, what is the price distribution over the year:"
   ]
  },
  {
   "cell_type": "markdown",
   "id": "7cd618ff-fa9d-4688-9284-193cced3a23e",
   "metadata": {},
   "source": [
    "Let's calculate the mean price over all listings for each day of the year:"
   ]
  },
  {
   "cell_type": "markdown",
   "id": "8263885e-a769-45c3-8293-c3db35c04551",
   "metadata": {},
   "source": [
    "First check if we have *NULL* values in the data frame."
   ]
  },
  {
   "cell_type": "code",
   "execution_count": 33,
   "id": "9f9b60da-3b3e-4885-9f5d-21f75ba449e2",
   "metadata": {},
   "outputs": [
    {
     "data": {
      "text/plain": [
       "listing_id          0\n",
       "date                0\n",
       "available           0\n",
       "price             340\n",
       "adjusted_price    340\n",
       "minimum_nights     26\n",
       "maximum_nights     26\n",
       "day_of_week         0\n",
       "dtype: int64"
      ]
     },
     "execution_count": 33,
     "metadata": {},
     "output_type": "execute_result"
    }
   ],
   "source": [
    "df_cal.isnull().sum()"
   ]
  },
  {
   "cell_type": "markdown",
   "id": "d68ac41f-7f20-4b17-9ec2-a84c1f9a82eb",
   "metadata": {},
   "source": [
    "*NULL* values have impact to the average (even if very small due to the small number of missing values), let's drop all rows with *NULL* **price**."
   ]
  },
  {
   "cell_type": "code",
   "execution_count": 34,
   "id": "83a66704-0c3f-4eb8-93dd-8f63308156ce",
   "metadata": {},
   "outputs": [],
   "source": [
    "df_cal.dropna(subset=['price'], inplace=True)"
   ]
  },
  {
   "cell_type": "markdown",
   "id": "0cb3da0e-3cb1-4c02-8857-b3f152d77a5d",
   "metadata": {},
   "source": [
    "Now let's group all listings by **date** and calculate the average **price** of all listings for each day:"
   ]
  },
  {
   "cell_type": "code",
   "execution_count": 35,
   "id": "033cf6ce-9561-44a5-a493-647b178e242d",
   "metadata": {},
   "outputs": [],
   "source": [
    "mean_price = df_cal[['date', 'price']].groupby(by='date').mean().reset_index()"
   ]
  },
  {
   "cell_type": "code",
   "execution_count": 36,
   "id": "3a983c9e-a19c-4252-b2c9-fbe82dfd714e",
   "metadata": {},
   "outputs": [
    {
     "data": {
      "text/html": [
       "<div>\n",
       "<style scoped>\n",
       "    .dataframe tbody tr th:only-of-type {\n",
       "        vertical-align: middle;\n",
       "    }\n",
       "\n",
       "    .dataframe tbody tr th {\n",
       "        vertical-align: top;\n",
       "    }\n",
       "\n",
       "    .dataframe thead th {\n",
       "        text-align: right;\n",
       "    }\n",
       "</style>\n",
       "<table border=\"1\" class=\"dataframe\">\n",
       "  <thead>\n",
       "    <tr style=\"text-align: right;\">\n",
       "      <th></th>\n",
       "      <th>date</th>\n",
       "      <th>price</th>\n",
       "    </tr>\n",
       "  </thead>\n",
       "  <tbody>\n",
       "    <tr>\n",
       "      <th>0</th>\n",
       "      <td>2021-03-22</td>\n",
       "      <td>87.617737</td>\n",
       "    </tr>\n",
       "    <tr>\n",
       "      <th>1</th>\n",
       "      <td>2021-03-23</td>\n",
       "      <td>121.844113</td>\n",
       "    </tr>\n",
       "    <tr>\n",
       "      <th>2</th>\n",
       "      <td>2021-03-24</td>\n",
       "      <td>121.669695</td>\n",
       "    </tr>\n",
       "    <tr>\n",
       "      <th>3</th>\n",
       "      <td>2021-03-25</td>\n",
       "      <td>121.947311</td>\n",
       "    </tr>\n",
       "    <tr>\n",
       "      <th>4</th>\n",
       "      <td>2021-03-26</td>\n",
       "      <td>125.078125</td>\n",
       "    </tr>\n",
       "    <tr>\n",
       "      <th>...</th>\n",
       "      <td>...</td>\n",
       "      <td>...</td>\n",
       "    </tr>\n",
       "    <tr>\n",
       "      <th>372</th>\n",
       "      <td>2022-03-29</td>\n",
       "      <td>117.050151</td>\n",
       "    </tr>\n",
       "    <tr>\n",
       "      <th>373</th>\n",
       "      <td>2022-03-30</td>\n",
       "      <td>118.258106</td>\n",
       "    </tr>\n",
       "    <tr>\n",
       "      <th>374</th>\n",
       "      <td>2022-03-31</td>\n",
       "      <td>120.142157</td>\n",
       "    </tr>\n",
       "    <tr>\n",
       "      <th>375</th>\n",
       "      <td>2022-04-01</td>\n",
       "      <td>80.798122</td>\n",
       "    </tr>\n",
       "    <tr>\n",
       "      <th>376</th>\n",
       "      <td>2022-04-02</td>\n",
       "      <td>126.960000</td>\n",
       "    </tr>\n",
       "  </tbody>\n",
       "</table>\n",
       "<p>377 rows × 2 columns</p>\n",
       "</div>"
      ],
      "text/plain": [
       "          date       price\n",
       "0   2021-03-22   87.617737\n",
       "1   2021-03-23  121.844113\n",
       "2   2021-03-24  121.669695\n",
       "3   2021-03-25  121.947311\n",
       "4   2021-03-26  125.078125\n",
       "..         ...         ...\n",
       "372 2022-03-29  117.050151\n",
       "373 2022-03-30  118.258106\n",
       "374 2022-03-31  120.142157\n",
       "375 2022-04-01   80.798122\n",
       "376 2022-04-02  126.960000\n",
       "\n",
       "[377 rows x 2 columns]"
      ]
     },
     "execution_count": 36,
     "metadata": {},
     "output_type": "execute_result"
    }
   ],
   "source": [
    "mean_price"
   ]
  },
  {
   "cell_type": "markdown",
   "id": "d16f48ec-64cf-4c69-a0d5-e672972df33f",
   "metadata": {},
   "source": [
    "And plot the result:"
   ]
  },
  {
   "cell_type": "code",
   "execution_count": 37,
   "id": "05a600ec-ae22-489d-952d-ef06a4d88760",
   "metadata": {},
   "outputs": [
    {
     "data": {
      "image/png": "[encoded data removed]",
      "text/plain": [
       "<Figure size 1440x720 with 1 Axes>"
      ]
     },
     "metadata": {},
     "output_type": "display_data"
    }
   ],
   "source": [
    "scale_from = mean_price['price'][1:-2].min()*0.95\n",
    "scale_to = mean_price['price'][1:-2].max()*1.02\n",
    "\n",
    "mean_price.set_index('date')[1:-2].plot(kind='line', y='price', figsize=(20,10), grid=True).set_ylim(scale_from, scale_to);"
   ]
  },
  {
   "cell_type": "markdown",
   "id": "4377b9e5-c940-4086-89e2-58b24daa9f85",
   "metadata": {},
   "source": [
    "## There are two interesting observations:\n",
    "### 1. There is a peak in the second half of September: **\"Welcome to the Octoberfest!**\"\n",
    "### 2. The price apparently depends on the day of week. Let's have a closer look at it."
   ]
  },
  {
   "cell_type": "markdown",
   "id": "c7ff7301-a9a5-4484-8162-1bda586e687c",
   "metadata": {},
   "source": [
    "## Second question: What is the price distribution within a week?"
   ]
  },
  {
   "cell_type": "markdown",
   "id": "9f4aa5bd-aa92-4644-bb32-a66002bb4dcb",
   "metadata": {},
   "source": [
    "Let's group the prices for each day of week and get the average price:"
   ]
  },
  {
   "cell_type": "code",
   "execution_count": 38,
   "id": "d017a18e-f145-4d78-ad87-1ec6f00ef9ff",
   "metadata": {},
   "outputs": [],
   "source": [
    "mean_price_dow = df_cal[['day_of_week', 'price']].groupby(by='day_of_week').mean().reset_index()"
   ]
  },
  {
   "cell_type": "code",
   "execution_count": 39,
   "id": "dbe96753-2d6d-4d52-85b0-0b4a9cd494ca",
   "metadata": {},
   "outputs": [
    {
     "data": {
      "text/html": [
       "<div>\n",
       "<style scoped>\n",
       "    .dataframe tbody tr th:only-of-type {\n",
       "        vertical-align: middle;\n",
       "    }\n",
       "\n",
       "    .dataframe tbody tr th {\n",
       "        vertical-align: top;\n",
       "    }\n",
       "\n",
       "    .dataframe thead th {\n",
       "        text-align: right;\n",
       "    }\n",
       "</style>\n",
       "<table border=\"1\" class=\"dataframe\">\n",
       "  <thead>\n",
       "    <tr style=\"text-align: right;\">\n",
       "      <th></th>\n",
       "      <th>day_of_week</th>\n",
       "      <th>price</th>\n",
       "    </tr>\n",
       "  </thead>\n",
       "  <tbody>\n",
       "    <tr>\n",
       "      <th>0</th>\n",
       "      <td>0</td>\n",
       "      <td>120.688993</td>\n",
       "    </tr>\n",
       "    <tr>\n",
       "      <th>1</th>\n",
       "      <td>1</td>\n",
       "      <td>121.052007</td>\n",
       "    </tr>\n",
       "    <tr>\n",
       "      <th>2</th>\n",
       "      <td>2</td>\n",
       "      <td>120.667118</td>\n",
       "    </tr>\n",
       "    <tr>\n",
       "      <th>3</th>\n",
       "      <td>3</td>\n",
       "      <td>120.849175</td>\n",
       "    </tr>\n",
       "    <tr>\n",
       "      <th>4</th>\n",
       "      <td>4</td>\n",
       "      <td>123.175604</td>\n",
       "    </tr>\n",
       "    <tr>\n",
       "      <th>5</th>\n",
       "      <td>5</td>\n",
       "      <td>123.493037</td>\n",
       "    </tr>\n",
       "    <tr>\n",
       "      <th>6</th>\n",
       "      <td>6</td>\n",
       "      <td>120.839011</td>\n",
       "    </tr>\n",
       "  </tbody>\n",
       "</table>\n",
       "</div>"
      ],
      "text/plain": [
       "   day_of_week       price\n",
       "0            0  120.688993\n",
       "1            1  121.052007\n",
       "2            2  120.667118\n",
       "3            3  120.849175\n",
       "4            4  123.175604\n",
       "5            5  123.493037\n",
       "6            6  120.839011"
      ]
     },
     "execution_count": 39,
     "metadata": {},
     "output_type": "execute_result"
    }
   ],
   "source": [
    "mean_price_dow"
   ]
  },
  {
   "cell_type": "markdown",
   "id": "cf1054cc-23eb-418c-8d1b-27b8ec690084",
   "metadata": {},
   "source": [
    "It's difficult to interpret index-based day of week. Let's convert it to strings from Monday to Sunday:"
   ]
  },
  {
   "cell_type": "code",
   "execution_count": 40,
   "id": "a7438c43-de69-4cd7-b89a-0e4e447308ec",
   "metadata": {},
   "outputs": [],
   "source": [
    "def convert_day_of_week(day_idx):\n",
    "    '''\n",
    "    This function convert index based day of week to string\n",
    "    0 - Monday\n",
    "    6 - Sunday\n",
    "    \n",
    "    if the day_idx oís out of this range, this index will be returned\n",
    "    '''    \n",
    "    \n",
    "    if(day_idx>6 or day_idx<0):\n",
    "        return day_idx\n",
    "    \n",
    "    lst = ['Monday', 'Tuesday', 'Wednesday', 'Thursday', 'Friday', 'Saturday', 'Sunday']\n",
    "    return lst[day_idx]"
   ]
  },
  {
   "cell_type": "code",
   "execution_count": 41,
   "id": "3f5cdc30-3260-4fb4-aa44-6bc9e2eadddd",
   "metadata": {},
   "outputs": [],
   "source": [
    "mean_price_dow['day_of_week'] = mean_price_dow['day_of_week'].apply(convert_day_of_week)"
   ]
  },
  {
   "cell_type": "code",
   "execution_count": 42,
   "id": "042fd571-8d9c-428c-b330-85f348f6b925",
   "metadata": {},
   "outputs": [
    {
     "data": {
      "text/html": [
       "<div>\n",
       "<style scoped>\n",
       "    .dataframe tbody tr th:only-of-type {\n",
       "        vertical-align: middle;\n",
       "    }\n",
       "\n",
       "    .dataframe tbody tr th {\n",
       "        vertical-align: top;\n",
       "    }\n",
       "\n",
       "    .dataframe thead th {\n",
       "        text-align: right;\n",
       "    }\n",
       "</style>\n",
       "<table border=\"1\" class=\"dataframe\">\n",
       "  <thead>\n",
       "    <tr style=\"text-align: right;\">\n",
       "      <th></th>\n",
       "      <th>day_of_week</th>\n",
       "      <th>price</th>\n",
       "    </tr>\n",
       "  </thead>\n",
       "  <tbody>\n",
       "    <tr>\n",
       "      <th>0</th>\n",
       "      <td>Monday</td>\n",
       "      <td>120.688993</td>\n",
       "    </tr>\n",
       "    <tr>\n",
       "      <th>1</th>\n",
       "      <td>Tuesday</td>\n",
       "      <td>121.052007</td>\n",
       "    </tr>\n",
       "    <tr>\n",
       "      <th>2</th>\n",
       "      <td>Wednesday</td>\n",
       "      <td>120.667118</td>\n",
       "    </tr>\n",
       "    <tr>\n",
       "      <th>3</th>\n",
       "      <td>Thursday</td>\n",
       "      <td>120.849175</td>\n",
       "    </tr>\n",
       "    <tr>\n",
       "      <th>4</th>\n",
       "      <td>Friday</td>\n",
       "      <td>123.175604</td>\n",
       "    </tr>\n",
       "    <tr>\n",
       "      <th>5</th>\n",
       "      <td>Saturday</td>\n",
       "      <td>123.493037</td>\n",
       "    </tr>\n",
       "    <tr>\n",
       "      <th>6</th>\n",
       "      <td>Sunday</td>\n",
       "      <td>120.839011</td>\n",
       "    </tr>\n",
       "  </tbody>\n",
       "</table>\n",
       "</div>"
      ],
      "text/plain": [
       "  day_of_week       price\n",
       "0      Monday  120.688993\n",
       "1     Tuesday  121.052007\n",
       "2   Wednesday  120.667118\n",
       "3    Thursday  120.849175\n",
       "4      Friday  123.175604\n",
       "5    Saturday  123.493037\n",
       "6      Sunday  120.839011"
      ]
     },
     "execution_count": 42,
     "metadata": {},
     "output_type": "execute_result"
    }
   ],
   "source": [
    "mean_price_dow"
   ]
  },
  {
   "cell_type": "code",
   "execution_count": 43,
   "id": "5dc7d9bc-9722-48d4-8a33-92f6e0b1bbfa",
   "metadata": {},
   "outputs": [],
   "source": [
    "mean_price_dow['top'] = mean_price_dow['price']>123"
   ]
  },
  {
   "cell_type": "markdown",
   "id": "46171eec-0f6f-4861-b6b0-6f58a6e923ba",
   "metadata": {},
   "source": [
    "Now we can plot the result:"
   ]
  },
  {
   "cell_type": "code",
   "execution_count": 44,
   "id": "3915a19d-860b-4b47-8f09-2cc0a113e047",
   "metadata": {},
   "outputs": [
    {
     "data": {
      "image/png": "[encoded data removed]",
      "text/plain": [
       "<Figure size 1080x576 with 1 Axes>"
      ]
     },
     "metadata": {},
     "output_type": "display_data"
    }
   ],
   "source": [
    "scale_from = mean_price_dow['price'].min()*0.95\n",
    "scale_to = mean_price_dow['price'].max()*1.02\n",
    "\n",
    "sns.set(rc={'figure.figsize':(15,8)})\n",
    "fig = sns.barplot(data=mean_price_dow, x='day_of_week', y='price', color='#0080bb');\n",
    "fig.set_ylim(scale_from, scale_to);\n",
    "fig.set_title('Prices for day of the week');\n",
    "fig.set_xlabel('Day of week');\n",
    "fig.set_ylabel('Price');"
   ]
  },
  {
   "cell_type": "markdown",
   "id": "fc2d5d1f-91cc-48e3-a221-866b1f2ac7f0",
   "metadata": {},
   "source": [
    "## No surprise, the most expensive days are Saturday and Friday. The weekend can start!"
   ]
  },
  {
   "cell_type": "code",
   "execution_count": null,
   "id": "41e3430a-0599-4db7-a890-384d1c7fd775",
   "metadata": {},
   "outputs": [],
   "source": []
  }
 ],
 "metadata": {
  "kernelspec": {
   "display_name": "Python (ds)",
   "language": "python",
   "name": "datascience"
  },
  "language_info": {
   "codemirror_mode": {
    "name": "ipython",
    "version": 3
   },
   "file_extension": ".py",
   "mimetype": "text/x-python",
   "name": "python",
   "nbconvert_exporter": "python",
   "pygments_lexer": "ipython3",
   "version": "3.8.8"
  }
 },
 "nbformat": 4,
 "nbformat_minor": 5
}
